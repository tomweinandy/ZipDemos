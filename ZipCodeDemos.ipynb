{
 "cells": [
  {
   "cell_type": "code",
   "execution_count": 99,
   "metadata": {},
   "outputs": [
    {
     "data": {
      "text/plain": "'\\nFind demographic data at the zip code level\\n- Variables requested: Income level, children, race/ethnicity\\n- Variables suggested: insurance, SNAP\\n- Zip codes in Kent County:\\n\\n'"
     },
     "execution_count": 99,
     "metadata": {},
     "output_type": "execute_result"
    }
   ],
   "source": [
    "\"\"\"\n",
    "Find demographic data at the zip code level\n",
    "- Variables requested: Income level, children, race/ethnicity\n",
    "- Variables suggested: insurance, SNAP\n",
    "- Zip codes in Kent County:\n",
    "\n",
    "\"\"\""
   ]
  },
  {
   "cell_type": "code",
   "execution_count": 1,
   "metadata": {
    "collapsed": false,
    "jupyter": {
     "outputs_hidden": false
    }
   },
   "outputs": [
    {
     "data": {
      "text/plain": "   Census Tract  Zip Code       County\n0          28.0     49507  Kent County\n1          29.0     49507  Kent County\n2          30.0     49507  Kent County\n3          31.0     49507  Kent County\n4          32.0     49507  Kent County",
      "text/html": "<div>\n<style scoped>\n    .dataframe tbody tr th:only-of-type {\n        vertical-align: middle;\n    }\n\n    .dataframe tbody tr th {\n        vertical-align: top;\n    }\n\n    .dataframe thead th {\n        text-align: right;\n    }\n</style>\n<table border=\"1\" class=\"dataframe\">\n  <thead>\n    <tr style=\"text-align: right;\">\n      <th></th>\n      <th>Census Tract</th>\n      <th>Zip Code</th>\n      <th>County</th>\n    </tr>\n  </thead>\n  <tbody>\n    <tr>\n      <th>0</th>\n      <td>28.0</td>\n      <td>49507</td>\n      <td>Kent County</td>\n    </tr>\n    <tr>\n      <th>1</th>\n      <td>29.0</td>\n      <td>49507</td>\n      <td>Kent County</td>\n    </tr>\n    <tr>\n      <th>2</th>\n      <td>30.0</td>\n      <td>49507</td>\n      <td>Kent County</td>\n    </tr>\n    <tr>\n      <th>3</th>\n      <td>31.0</td>\n      <td>49507</td>\n      <td>Kent County</td>\n    </tr>\n    <tr>\n      <th>4</th>\n      <td>32.0</td>\n      <td>49507</td>\n      <td>Kent County</td>\n    </tr>\n  </tbody>\n</table>\n</div>"
     },
     "execution_count": 1,
     "metadata": {},
     "output_type": "execute_result"
    }
   ],
   "source": [
    "import pandas as pd\n",
    "# df_zip = pd.read_csv('kent_county_zip_codes.csv')\n",
    "df_zip = pd.read_csv('kent_county_census_tracts.csv')\n",
    "df_zip.head()"
   ]
  },
  {
   "cell_type": "code",
   "execution_count": 2,
   "metadata": {
    "collapsed": false,
    "jupyter": {
     "outputs_hidden": false
    }
   },
   "outputs": [
    {
     "ename": "KeyError",
     "evalue": "'Label (Grouping)'",
     "output_type": "error",
     "traceback": [
      "\u001B[0;31m---------------------------------------------------------------------------\u001B[0m",
      "\u001B[0;31mKeyError\u001B[0m                                  Traceback (most recent call last)",
      "File \u001B[0;32m~/PycharmProjects/ZipDemos/venv/lib/python3.11/site-packages/pandas/core/indexes/base.py:3805\u001B[0m, in \u001B[0;36mIndex.get_loc\u001B[0;34m(self, key)\u001B[0m\n\u001B[1;32m   3804\u001B[0m \u001B[38;5;28;01mtry\u001B[39;00m:\n\u001B[0;32m-> 3805\u001B[0m     \u001B[38;5;28;01mreturn\u001B[39;00m \u001B[38;5;28;43mself\u001B[39;49m\u001B[38;5;241;43m.\u001B[39;49m\u001B[43m_engine\u001B[49m\u001B[38;5;241;43m.\u001B[39;49m\u001B[43mget_loc\u001B[49m\u001B[43m(\u001B[49m\u001B[43mcasted_key\u001B[49m\u001B[43m)\u001B[49m\n\u001B[1;32m   3806\u001B[0m \u001B[38;5;28;01mexcept\u001B[39;00m \u001B[38;5;167;01mKeyError\u001B[39;00m \u001B[38;5;28;01mas\u001B[39;00m err:\n",
      "File \u001B[0;32mindex.pyx:167\u001B[0m, in \u001B[0;36mpandas._libs.index.IndexEngine.get_loc\u001B[0;34m()\u001B[0m\n",
      "File \u001B[0;32mindex.pyx:196\u001B[0m, in \u001B[0;36mpandas._libs.index.IndexEngine.get_loc\u001B[0;34m()\u001B[0m\n",
      "File \u001B[0;32mpandas/_libs/hashtable_class_helper.pxi:7081\u001B[0m, in \u001B[0;36mpandas._libs.hashtable.PyObjectHashTable.get_item\u001B[0;34m()\u001B[0m\n",
      "File \u001B[0;32mpandas/_libs/hashtable_class_helper.pxi:7089\u001B[0m, in \u001B[0;36mpandas._libs.hashtable.PyObjectHashTable.get_item\u001B[0;34m()\u001B[0m\n",
      "\u001B[0;31mKeyError\u001B[0m: 'Label (Grouping)'",
      "\nThe above exception was the direct cause of the following exception:\n",
      "\u001B[0;31mKeyError\u001B[0m                                  Traceback (most recent call last)",
      "Cell \u001B[0;32mIn[2], line 8\u001B[0m\n\u001B[1;32m      5\u001B[0m q_spanish \u001B[38;5;241m=\u001B[39m \u001B[38;5;124m'\u001B[39m\u001B[38;5;130;01m\\xa0\u001B[39;00m\u001B[38;5;130;01m\\xa0\u001B[39;00m\u001B[38;5;130;01m\\xa0\u001B[39;00m\u001B[38;5;130;01m\\xa0\u001B[39;00m\u001B[38;5;130;01m\\xa0\u001B[39;00m\u001B[38;5;130;01m\\xa0\u001B[39;00m\u001B[38;5;130;01m\\xa0\u001B[39;00m\u001B[38;5;130;01m\\xa0\u001B[39;00m\u001B[38;5;124mSpanish\u001B[39m\u001B[38;5;124m'\u001B[39m \u001B[38;5;66;03m#.iloc[131]\u001B[39;00m\n\u001B[1;32m      6\u001B[0m q_adult \u001B[38;5;241m=\u001B[39m \u001B[38;5;124m'\u001B[39m\u001B[38;5;130;01m\\xa0\u001B[39;00m\u001B[38;5;130;01m\\xa0\u001B[39;00m\u001B[38;5;130;01m\\xa0\u001B[39;00m\u001B[38;5;130;01m\\xa0\u001B[39;00m\u001B[38;5;124mCivilian population 18 years and over\u001B[39m\u001B[38;5;124m'\u001B[39m \u001B[38;5;66;03m#.iloc[77]\u001B[39;00m\n\u001B[0;32m----> 8\u001B[0m df_kids \u001B[38;5;241m=\u001B[39m df_household_composition[\u001B[43mdf_household_composition\u001B[49m\u001B[43m[\u001B[49m\u001B[38;5;124;43m'\u001B[39;49m\u001B[38;5;124;43mLabel (Grouping)\u001B[39;49m\u001B[38;5;124;43m'\u001B[39;49m\u001B[43m]\u001B[49m\u001B[38;5;241m==\u001B[39mq_kids]\n\u001B[1;32m      9\u001B[0m df_kids[\u001B[38;5;124m'\u001B[39m\u001B[38;5;124mVariable\u001B[39m\u001B[38;5;124m'\u001B[39m] \u001B[38;5;241m=\u001B[39m \u001B[38;5;124m'\u001B[39m\u001B[38;5;124mHouseholds with kids\u001B[39m\u001B[38;5;124m'\u001B[39m\n\u001B[1;32m     11\u001B[0m df_spanish \u001B[38;5;241m=\u001B[39m df_household_composition[df_household_composition[\u001B[38;5;124m'\u001B[39m\u001B[38;5;124mLabel (Grouping)\u001B[39m\u001B[38;5;124m'\u001B[39m]\u001B[38;5;241m==\u001B[39mq_spanish]\n",
      "File \u001B[0;32m~/PycharmProjects/ZipDemos/venv/lib/python3.11/site-packages/pandas/core/frame.py:4102\u001B[0m, in \u001B[0;36mDataFrame.__getitem__\u001B[0;34m(self, key)\u001B[0m\n\u001B[1;32m   4100\u001B[0m \u001B[38;5;28;01mif\u001B[39;00m \u001B[38;5;28mself\u001B[39m\u001B[38;5;241m.\u001B[39mcolumns\u001B[38;5;241m.\u001B[39mnlevels \u001B[38;5;241m>\u001B[39m \u001B[38;5;241m1\u001B[39m:\n\u001B[1;32m   4101\u001B[0m     \u001B[38;5;28;01mreturn\u001B[39;00m \u001B[38;5;28mself\u001B[39m\u001B[38;5;241m.\u001B[39m_getitem_multilevel(key)\n\u001B[0;32m-> 4102\u001B[0m indexer \u001B[38;5;241m=\u001B[39m \u001B[38;5;28;43mself\u001B[39;49m\u001B[38;5;241;43m.\u001B[39;49m\u001B[43mcolumns\u001B[49m\u001B[38;5;241;43m.\u001B[39;49m\u001B[43mget_loc\u001B[49m\u001B[43m(\u001B[49m\u001B[43mkey\u001B[49m\u001B[43m)\u001B[49m\n\u001B[1;32m   4103\u001B[0m \u001B[38;5;28;01mif\u001B[39;00m is_integer(indexer):\n\u001B[1;32m   4104\u001B[0m     indexer \u001B[38;5;241m=\u001B[39m [indexer]\n",
      "File \u001B[0;32m~/PycharmProjects/ZipDemos/venv/lib/python3.11/site-packages/pandas/core/indexes/base.py:3812\u001B[0m, in \u001B[0;36mIndex.get_loc\u001B[0;34m(self, key)\u001B[0m\n\u001B[1;32m   3807\u001B[0m     \u001B[38;5;28;01mif\u001B[39;00m \u001B[38;5;28misinstance\u001B[39m(casted_key, \u001B[38;5;28mslice\u001B[39m) \u001B[38;5;129;01mor\u001B[39;00m (\n\u001B[1;32m   3808\u001B[0m         \u001B[38;5;28misinstance\u001B[39m(casted_key, abc\u001B[38;5;241m.\u001B[39mIterable)\n\u001B[1;32m   3809\u001B[0m         \u001B[38;5;129;01mand\u001B[39;00m \u001B[38;5;28many\u001B[39m(\u001B[38;5;28misinstance\u001B[39m(x, \u001B[38;5;28mslice\u001B[39m) \u001B[38;5;28;01mfor\u001B[39;00m x \u001B[38;5;129;01min\u001B[39;00m casted_key)\n\u001B[1;32m   3810\u001B[0m     ):\n\u001B[1;32m   3811\u001B[0m         \u001B[38;5;28;01mraise\u001B[39;00m InvalidIndexError(key)\n\u001B[0;32m-> 3812\u001B[0m     \u001B[38;5;28;01mraise\u001B[39;00m \u001B[38;5;167;01mKeyError\u001B[39;00m(key) \u001B[38;5;28;01mfrom\u001B[39;00m \u001B[38;5;21;01merr\u001B[39;00m\n\u001B[1;32m   3813\u001B[0m \u001B[38;5;28;01mexcept\u001B[39;00m \u001B[38;5;167;01mTypeError\u001B[39;00m:\n\u001B[1;32m   3814\u001B[0m     \u001B[38;5;66;03m# If we have a listlike key, _check_indexing_error will raise\u001B[39;00m\n\u001B[1;32m   3815\u001B[0m     \u001B[38;5;66;03m#  InvalidIndexError. Otherwise we fall through and re-raise\u001B[39;00m\n\u001B[1;32m   3816\u001B[0m     \u001B[38;5;66;03m#  the TypeError.\u001B[39;00m\n\u001B[1;32m   3817\u001B[0m     \u001B[38;5;28mself\u001B[39m\u001B[38;5;241m.\u001B[39m_check_indexing_error(key)\n",
      "\u001B[0;31mKeyError\u001B[0m: 'Label (Grouping)'"
     ]
    }
   ],
   "source": [
    "# df_household_composition = pd.read_csv('DP02.csv')\n",
    "df_household_composition = pd.read_csv('D02.csv')\n",
    "\n",
    "q_kids = '\\xa0\\xa0\\xa0\\xa0\\xa0\\xa0\\xa0\\xa0Households with one or more people under 18 years' #iloc[14]\n",
    "q_spanish = '\\xa0\\xa0\\xa0\\xa0\\xa0\\xa0\\xa0\\xa0Spanish' #.iloc[131]\n",
    "q_adult = '\\xa0\\xa0\\xa0\\xa0Civilian population 18 years and over' #.iloc[77]\n",
    "\n",
    "df_kids = df_household_composition[df_household_composition['Label (Grouping)']==q_kids]\n",
    "df_kids['Variable'] = 'Households with kids'\n",
    "\n",
    "df_spanish = df_household_composition[df_household_composition['Label (Grouping)']==q_spanish]\n",
    "df_spanish['Variable'] = 'Spanish speaking household'\n",
    "\n",
    "df_adults = df_household_composition[df_household_composition['Label (Grouping)']==q_adult]\n",
    "df_adults['Variable'] = 'Adult population'\n",
    "\n",
    "df2 = pd.concat([df_kids, df_spanish])\n",
    "df2 = pd.concat([df2, df_adults])\n",
    "df2 = df2.reset_index(drop=True)\n",
    "\n",
    "filtered_columns = ['Variable'] + [col for col in df2.columns if col.endswith('!!Percent')]\n",
    "shortname_columns = [col.replace('!!Percent','').replace('ZCTA5','Zip') for col in filtered_columns]\n",
    "rename_dict = {}\n",
    "for i in range(len(filtered_columns)):\n",
    "    rename_dict[filtered_columns[i]] = shortname_columns[i]\n",
    "\n",
    "df2 = df2[filtered_columns]\n",
    "df2 = df2.rename(columns = rename_dict)\n",
    "\n",
    "df2"
   ]
  },
  {
   "cell_type": "code",
   "execution_count": 102,
   "outputs": [
    {
     "data": {
      "text/plain": "                                              Variable Zip 48809 Zip 48838  \\\n57                                   Less than $10,000      4.6%      4.0%   \n58                                  $10,000 to $14,999      4.4%      3.9%   \n59                                  $15,000 to $24,999      7.7%      7.3%   \n60                                  $25,000 to $34,999      5.9%     10.2%   \n61                                  $35,000 to $49,999     12.2%     14.9%   \n62                                  $50,000 to $74,999     22.0%     21.9%   \n63                                  $75,000 to $99,999     16.3%     13.0%   \n64                                $100,000 to $149,999     17.8%     15.3%   \n65                                $150,000 to $199,999      6.6%      6.0%   \n66                                    $200,000 or more      2.6%      3.5%   \n79           With Food Stamp/SNAP benefits in the p...     23.3%     10.4%   \n107                       No health insurance coverage      0.5%      1.5%   \n\n    Zip 49301 Zip 49302 Zip 49306 Zip 49315 Zip 49316 Zip 49319 Zip 49321  \\\n57       1.9%      1.5%      3.2%      1.2%      2.6%      2.0%      2.2%   \n58       0.8%      1.1%      1.5%      1.7%      1.7%      6.1%      2.1%   \n59       2.2%      1.1%      3.2%      3.1%      3.9%      7.1%     11.9%   \n60       2.7%      4.6%      4.9%      4.7%      3.0%      6.7%      4.7%   \n61       2.1%     11.7%      8.3%      8.6%      8.7%     10.7%     15.8%   \n62       7.2%     12.7%     13.0%     15.4%     13.8%     18.8%     19.9%   \n63       9.1%     11.4%     13.6%     13.6%     17.1%     13.6%     15.0%   \n64      18.0%     23.1%     22.6%     21.9%     21.3%     22.5%     16.4%   \n65      16.0%     22.1%     10.6%     16.2%     16.6%      8.0%      6.8%   \n66      40.0%     10.7%     19.1%     13.6%     11.2%      4.5%      5.2%   \n79       0.7%      1.9%      4.6%      0.5%      3.2%     11.8%     10.1%   \n107      0.8%      6.8%      3.9%      2.8%      1.0%      1.1%      1.7%   \n\n     ... Zip 49507 Zip 49508 Zip 49509 Zip 49512 Zip 49519 Zip 49525  \\\n57   ...      8.1%      3.2%      4.4%      3.7%      4.1%      2.1%   \n58   ...      6.0%      4.8%      3.7%      2.7%      3.5%      2.0%   \n59   ...      9.5%      5.8%     10.7%      6.6%      6.9%      4.6%   \n60   ...      9.5%      9.4%      6.9%      8.0%      7.4%      8.0%   \n61   ...     15.1%     15.8%     13.4%     17.5%     12.5%      9.8%   \n62   ...     16.4%     18.5%     23.4%     18.5%     22.3%     16.7%   \n63   ...     13.4%     14.7%     14.4%     10.1%     16.1%     12.5%   \n64   ...     13.4%     16.0%     17.2%     19.2%     16.7%     21.1%   \n65   ...      5.1%      6.6%      3.3%      5.6%      6.6%     11.0%   \n66   ...      3.5%      5.2%      2.6%      8.0%      4.0%     12.3%   \n79   ...     21.6%     14.8%     16.2%      5.7%     12.6%      4.9%   \n107  ...      5.6%      2.9%      1.8%      3.0%      2.9%      2.4%   \n\n    Zip 49534 Zip 49544 Zip 49546 Zip 49548  \n57       2.0%      2.4%      4.3%      4.3%  \n58       1.9%      2.9%      2.2%      2.1%  \n59       3.5%     13.2%      5.6%      7.7%  \n60       5.7%      5.2%      5.5%      9.6%  \n61      12.9%     15.0%      9.7%     17.7%  \n62      21.0%     18.2%     13.6%     22.3%  \n63      17.5%     12.1%     13.6%     16.5%  \n64      22.3%     17.8%     19.7%     14.3%  \n65       7.2%      5.5%      9.2%      3.7%  \n66       5.9%      7.7%     16.4%      1.7%  \n79       2.7%     13.0%      4.2%     15.9%  \n107      0.0%      0.0%      3.1%      2.4%  \n\n[12 rows x 32 columns]",
      "text/html": "<div>\n<style scoped>\n    .dataframe tbody tr th:only-of-type {\n        vertical-align: middle;\n    }\n\n    .dataframe tbody tr th {\n        vertical-align: top;\n    }\n\n    .dataframe thead th {\n        text-align: right;\n    }\n</style>\n<table border=\"1\" class=\"dataframe\">\n  <thead>\n    <tr style=\"text-align: right;\">\n      <th></th>\n      <th>Variable</th>\n      <th>Zip 48809</th>\n      <th>Zip 48838</th>\n      <th>Zip 49301</th>\n      <th>Zip 49302</th>\n      <th>Zip 49306</th>\n      <th>Zip 49315</th>\n      <th>Zip 49316</th>\n      <th>Zip 49319</th>\n      <th>Zip 49321</th>\n      <th>...</th>\n      <th>Zip 49507</th>\n      <th>Zip 49508</th>\n      <th>Zip 49509</th>\n      <th>Zip 49512</th>\n      <th>Zip 49519</th>\n      <th>Zip 49525</th>\n      <th>Zip 49534</th>\n      <th>Zip 49544</th>\n      <th>Zip 49546</th>\n      <th>Zip 49548</th>\n    </tr>\n  </thead>\n  <tbody>\n    <tr>\n      <th>57</th>\n      <td>Less than $10,000</td>\n      <td>4.6%</td>\n      <td>4.0%</td>\n      <td>1.9%</td>\n      <td>1.5%</td>\n      <td>3.2%</td>\n      <td>1.2%</td>\n      <td>2.6%</td>\n      <td>2.0%</td>\n      <td>2.2%</td>\n      <td>...</td>\n      <td>8.1%</td>\n      <td>3.2%</td>\n      <td>4.4%</td>\n      <td>3.7%</td>\n      <td>4.1%</td>\n      <td>2.1%</td>\n      <td>2.0%</td>\n      <td>2.4%</td>\n      <td>4.3%</td>\n      <td>4.3%</td>\n    </tr>\n    <tr>\n      <th>58</th>\n      <td>$10,000 to $14,999</td>\n      <td>4.4%</td>\n      <td>3.9%</td>\n      <td>0.8%</td>\n      <td>1.1%</td>\n      <td>1.5%</td>\n      <td>1.7%</td>\n      <td>1.7%</td>\n      <td>6.1%</td>\n      <td>2.1%</td>\n      <td>...</td>\n      <td>6.0%</td>\n      <td>4.8%</td>\n      <td>3.7%</td>\n      <td>2.7%</td>\n      <td>3.5%</td>\n      <td>2.0%</td>\n      <td>1.9%</td>\n      <td>2.9%</td>\n      <td>2.2%</td>\n      <td>2.1%</td>\n    </tr>\n    <tr>\n      <th>59</th>\n      <td>$15,000 to $24,999</td>\n      <td>7.7%</td>\n      <td>7.3%</td>\n      <td>2.2%</td>\n      <td>1.1%</td>\n      <td>3.2%</td>\n      <td>3.1%</td>\n      <td>3.9%</td>\n      <td>7.1%</td>\n      <td>11.9%</td>\n      <td>...</td>\n      <td>9.5%</td>\n      <td>5.8%</td>\n      <td>10.7%</td>\n      <td>6.6%</td>\n      <td>6.9%</td>\n      <td>4.6%</td>\n      <td>3.5%</td>\n      <td>13.2%</td>\n      <td>5.6%</td>\n      <td>7.7%</td>\n    </tr>\n    <tr>\n      <th>60</th>\n      <td>$25,000 to $34,999</td>\n      <td>5.9%</td>\n      <td>10.2%</td>\n      <td>2.7%</td>\n      <td>4.6%</td>\n      <td>4.9%</td>\n      <td>4.7%</td>\n      <td>3.0%</td>\n      <td>6.7%</td>\n      <td>4.7%</td>\n      <td>...</td>\n      <td>9.5%</td>\n      <td>9.4%</td>\n      <td>6.9%</td>\n      <td>8.0%</td>\n      <td>7.4%</td>\n      <td>8.0%</td>\n      <td>5.7%</td>\n      <td>5.2%</td>\n      <td>5.5%</td>\n      <td>9.6%</td>\n    </tr>\n    <tr>\n      <th>61</th>\n      <td>$35,000 to $49,999</td>\n      <td>12.2%</td>\n      <td>14.9%</td>\n      <td>2.1%</td>\n      <td>11.7%</td>\n      <td>8.3%</td>\n      <td>8.6%</td>\n      <td>8.7%</td>\n      <td>10.7%</td>\n      <td>15.8%</td>\n      <td>...</td>\n      <td>15.1%</td>\n      <td>15.8%</td>\n      <td>13.4%</td>\n      <td>17.5%</td>\n      <td>12.5%</td>\n      <td>9.8%</td>\n      <td>12.9%</td>\n      <td>15.0%</td>\n      <td>9.7%</td>\n      <td>17.7%</td>\n    </tr>\n    <tr>\n      <th>62</th>\n      <td>$50,000 to $74,999</td>\n      <td>22.0%</td>\n      <td>21.9%</td>\n      <td>7.2%</td>\n      <td>12.7%</td>\n      <td>13.0%</td>\n      <td>15.4%</td>\n      <td>13.8%</td>\n      <td>18.8%</td>\n      <td>19.9%</td>\n      <td>...</td>\n      <td>16.4%</td>\n      <td>18.5%</td>\n      <td>23.4%</td>\n      <td>18.5%</td>\n      <td>22.3%</td>\n      <td>16.7%</td>\n      <td>21.0%</td>\n      <td>18.2%</td>\n      <td>13.6%</td>\n      <td>22.3%</td>\n    </tr>\n    <tr>\n      <th>63</th>\n      <td>$75,000 to $99,999</td>\n      <td>16.3%</td>\n      <td>13.0%</td>\n      <td>9.1%</td>\n      <td>11.4%</td>\n      <td>13.6%</td>\n      <td>13.6%</td>\n      <td>17.1%</td>\n      <td>13.6%</td>\n      <td>15.0%</td>\n      <td>...</td>\n      <td>13.4%</td>\n      <td>14.7%</td>\n      <td>14.4%</td>\n      <td>10.1%</td>\n      <td>16.1%</td>\n      <td>12.5%</td>\n      <td>17.5%</td>\n      <td>12.1%</td>\n      <td>13.6%</td>\n      <td>16.5%</td>\n    </tr>\n    <tr>\n      <th>64</th>\n      <td>$100,000 to $149,999</td>\n      <td>17.8%</td>\n      <td>15.3%</td>\n      <td>18.0%</td>\n      <td>23.1%</td>\n      <td>22.6%</td>\n      <td>21.9%</td>\n      <td>21.3%</td>\n      <td>22.5%</td>\n      <td>16.4%</td>\n      <td>...</td>\n      <td>13.4%</td>\n      <td>16.0%</td>\n      <td>17.2%</td>\n      <td>19.2%</td>\n      <td>16.7%</td>\n      <td>21.1%</td>\n      <td>22.3%</td>\n      <td>17.8%</td>\n      <td>19.7%</td>\n      <td>14.3%</td>\n    </tr>\n    <tr>\n      <th>65</th>\n      <td>$150,000 to $199,999</td>\n      <td>6.6%</td>\n      <td>6.0%</td>\n      <td>16.0%</td>\n      <td>22.1%</td>\n      <td>10.6%</td>\n      <td>16.2%</td>\n      <td>16.6%</td>\n      <td>8.0%</td>\n      <td>6.8%</td>\n      <td>...</td>\n      <td>5.1%</td>\n      <td>6.6%</td>\n      <td>3.3%</td>\n      <td>5.6%</td>\n      <td>6.6%</td>\n      <td>11.0%</td>\n      <td>7.2%</td>\n      <td>5.5%</td>\n      <td>9.2%</td>\n      <td>3.7%</td>\n    </tr>\n    <tr>\n      <th>66</th>\n      <td>$200,000 or more</td>\n      <td>2.6%</td>\n      <td>3.5%</td>\n      <td>40.0%</td>\n      <td>10.7%</td>\n      <td>19.1%</td>\n      <td>13.6%</td>\n      <td>11.2%</td>\n      <td>4.5%</td>\n      <td>5.2%</td>\n      <td>...</td>\n      <td>3.5%</td>\n      <td>5.2%</td>\n      <td>2.6%</td>\n      <td>8.0%</td>\n      <td>4.0%</td>\n      <td>12.3%</td>\n      <td>5.9%</td>\n      <td>7.7%</td>\n      <td>16.4%</td>\n      <td>1.7%</td>\n    </tr>\n    <tr>\n      <th>79</th>\n      <td>With Food Stamp/SNAP benefits in the p...</td>\n      <td>23.3%</td>\n      <td>10.4%</td>\n      <td>0.7%</td>\n      <td>1.9%</td>\n      <td>4.6%</td>\n      <td>0.5%</td>\n      <td>3.2%</td>\n      <td>11.8%</td>\n      <td>10.1%</td>\n      <td>...</td>\n      <td>21.6%</td>\n      <td>14.8%</td>\n      <td>16.2%</td>\n      <td>5.7%</td>\n      <td>12.6%</td>\n      <td>4.9%</td>\n      <td>2.7%</td>\n      <td>13.0%</td>\n      <td>4.2%</td>\n      <td>15.9%</td>\n    </tr>\n    <tr>\n      <th>107</th>\n      <td>No health insurance coverage</td>\n      <td>0.5%</td>\n      <td>1.5%</td>\n      <td>0.8%</td>\n      <td>6.8%</td>\n      <td>3.9%</td>\n      <td>2.8%</td>\n      <td>1.0%</td>\n      <td>1.1%</td>\n      <td>1.7%</td>\n      <td>...</td>\n      <td>5.6%</td>\n      <td>2.9%</td>\n      <td>1.8%</td>\n      <td>3.0%</td>\n      <td>2.9%</td>\n      <td>2.4%</td>\n      <td>0.0%</td>\n      <td>0.0%</td>\n      <td>3.1%</td>\n      <td>2.4%</td>\n    </tr>\n  </tbody>\n</table>\n<p>12 rows × 32 columns</p>\n</div>"
     },
     "execution_count": 102,
     "metadata": {},
     "output_type": "execute_result"
    }
   ],
   "source": [
    "# df = pd.read_csv('DP03.csv')\n",
    "df = pd.read_csv('D03.csv')\n",
    "# df['Label (Grouping)'].iloc[105]\n",
    "\n",
    "# Exclude duplicate names\n",
    "df = df[(df.index < 80) | (df.index > 106)]\n",
    "\n",
    "dict = {\n",
    "    '\\xa0\\xa0\\xa0\\xa0\\xa0\\xa0\\xa0\\xa0Less than $10,000':'Household income less than $10,000',\n",
    "    '\\xa0\\xa0\\xa0\\xa0\\xa0\\xa0\\xa0\\xa0$10,000 to $14,999':'Household income $10,000 to $14,999',\n",
    "    '\\xa0\\xa0\\xa0\\xa0\\xa0\\xa0\\xa0\\xa0$15,000 to $24,999':'Household income $15,000 to $24,999',\n",
    "    '\\xa0\\xa0\\xa0\\xa0\\xa0\\xa0\\xa0\\xa0$25,000 to $34,999':'Household income $25,000 to $34,999',\n",
    "    '\\xa0\\xa0\\xa0\\xa0\\xa0\\xa0\\xa0\\xa0$35,000 to $49,999':'Household income $35,000 to $49,999',\n",
    "    '\\xa0\\xa0\\xa0\\xa0\\xa0\\xa0\\xa0\\xa0$50,000 to $74,999':'Household income $50,000 to $74,999',\n",
    "    '\\xa0\\xa0\\xa0\\xa0\\xa0\\xa0\\xa0\\xa0$75,000 to $99,999':'Household income $75,000 to $99,999',\n",
    "    '\\xa0\\xa0\\xa0\\xa0\\xa0\\xa0\\xa0\\xa0$100,000 to $149,999':'Household income $100,000 to $149,999',\n",
    "    '\\xa0\\xa0\\xa0\\xa0\\xa0\\xa0\\xa0\\xa0$150,000 to $199,999':'Household income $150,000 to $199,999',\n",
    "    '\\xa0\\xa0\\xa0\\xa0\\xa0\\xa0\\xa0\\xa0$200,000 or more':'Household income $200,000 or more',\n",
    "    '\\xa0\\xa0\\xa0\\xa0\\xa0\\xa0\\xa0\\xa0With Food Stamp/SNAP benefits in the past 12 months':'Households with Food Stamp/SNAP benefits in the past 12 months',\n",
    "    '\\xa0\\xa0\\xa0\\xa0\\xa0\\xa0\\xa0\\xa0No health insurance coverage':'No health insurance coverage'\n",
    "}\n",
    "\n",
    "for key, value in dict.items():\n",
    "    df = df[df['Label (Grouping)'].isin(dict.keys())]\n",
    "\n",
    "df = df.rename(columns={'Label (Grouping)':'Variable'})\n",
    "filtered_columns = ['Variable'] + [col for col in df.columns if col.endswith('!!Percent')]\n",
    "shortname_columns = [col.replace('!!Percent','').replace('ZCTA5','Zip') for col in filtered_columns]\n",
    "rename_dict = {}\n",
    "for i in range(len(filtered_columns)):\n",
    "    rename_dict[filtered_columns[i]] = shortname_columns[i]\n",
    "\n",
    "df = df[filtered_columns]\n",
    "df3 = df.rename(columns = rename_dict)\n",
    "\n",
    "df3"
   ],
   "metadata": {
    "collapsed": false
   }
  },
  {
   "cell_type": "code",
   "execution_count": 103,
   "outputs": [
    {
     "data": {
      "text/plain": "                                             Variable Zip 48809 Zip 48838  \\\n68                                              White     96.9%     96.3%   \n69                          Black or African American      2.2%      3.2%   \n70                  American Indian and Alaska Native      2.0%      0.4%   \n71                                              Asian      1.3%      0.9%   \n72          Native Hawaiian and Other Pacific Isla...      0.5%      0.4%   \n73                                    Some Other Race      3.3%      6.9%   \n76                   Hispanic or Latino (of any race)      3.5%      4.9%   \n\n   Zip 49301 Zip 49302 Zip 49306 Zip 49315 Zip 49316 Zip 49319 Zip 49321  ...  \\\n68     93.7%     98.5%     96.4%     94.5%     92.2%     98.0%     87.8%  ...   \n69      1.3%      0.6%      3.2%      1.4%      3.3%      0.8%      9.3%  ...   \n70      0.4%      0.5%      2.0%      0.5%      0.8%      1.4%      1.0%  ...   \n71      6.9%      0.9%      1.4%      3.8%      5.5%      0.6%      1.9%  ...   \n72      0.0%      0.0%      0.2%      0.0%      0.1%      0.1%      0.0%  ...   \n73      3.2%      1.3%      2.6%      3.4%      6.0%      5.2%      4.6%  ...   \n76      5.4%      1.7%      6.3%      3.7%      6.9%      5.4%     11.1%  ...   \n\n   Zip 49507 Zip 49508 Zip 49509 Zip 49512 Zip 49519 Zip 49525 Zip 49534  \\\n68     53.5%     60.1%     73.2%     72.8%     81.1%     93.5%     93.5%   \n69     41.8%     31.1%     16.4%     22.0%     11.7%      5.1%      2.6%   \n70      1.3%      0.9%      4.5%      1.4%      1.6%      0.9%      1.0%   \n71      1.0%     10.8%      2.3%      5.2%      4.0%      3.0%      2.1%   \n72      0.2%      0.3%      0.1%      0.3%      0.0%      0.3%      0.0%   \n73     20.3%      7.1%     20.6%      3.2%     11.4%      3.1%      5.1%   \n76     33.8%     10.8%     32.1%      7.3%     17.4%      3.8%      4.2%   \n\n   Zip 49544 Zip 49546 Zip 49548  \n68     87.0%     84.7%     71.0%  \n69      7.9%      8.1%     19.1%  \n70      2.3%      0.9%      2.7%  \n71      5.1%      8.3%      6.7%  \n72      0.0%      0.0%      0.1%  \n73      6.8%      1.4%     14.9%  \n76      9.5%      3.1%     21.5%  \n\n[7 rows x 32 columns]",
      "text/html": "<div>\n<style scoped>\n    .dataframe tbody tr th:only-of-type {\n        vertical-align: middle;\n    }\n\n    .dataframe tbody tr th {\n        vertical-align: top;\n    }\n\n    .dataframe thead th {\n        text-align: right;\n    }\n</style>\n<table border=\"1\" class=\"dataframe\">\n  <thead>\n    <tr style=\"text-align: right;\">\n      <th></th>\n      <th>Variable</th>\n      <th>Zip 48809</th>\n      <th>Zip 48838</th>\n      <th>Zip 49301</th>\n      <th>Zip 49302</th>\n      <th>Zip 49306</th>\n      <th>Zip 49315</th>\n      <th>Zip 49316</th>\n      <th>Zip 49319</th>\n      <th>Zip 49321</th>\n      <th>...</th>\n      <th>Zip 49507</th>\n      <th>Zip 49508</th>\n      <th>Zip 49509</th>\n      <th>Zip 49512</th>\n      <th>Zip 49519</th>\n      <th>Zip 49525</th>\n      <th>Zip 49534</th>\n      <th>Zip 49544</th>\n      <th>Zip 49546</th>\n      <th>Zip 49548</th>\n    </tr>\n  </thead>\n  <tbody>\n    <tr>\n      <th>68</th>\n      <td>White</td>\n      <td>96.9%</td>\n      <td>96.3%</td>\n      <td>93.7%</td>\n      <td>98.5%</td>\n      <td>96.4%</td>\n      <td>94.5%</td>\n      <td>92.2%</td>\n      <td>98.0%</td>\n      <td>87.8%</td>\n      <td>...</td>\n      <td>53.5%</td>\n      <td>60.1%</td>\n      <td>73.2%</td>\n      <td>72.8%</td>\n      <td>81.1%</td>\n      <td>93.5%</td>\n      <td>93.5%</td>\n      <td>87.0%</td>\n      <td>84.7%</td>\n      <td>71.0%</td>\n    </tr>\n    <tr>\n      <th>69</th>\n      <td>Black or African American</td>\n      <td>2.2%</td>\n      <td>3.2%</td>\n      <td>1.3%</td>\n      <td>0.6%</td>\n      <td>3.2%</td>\n      <td>1.4%</td>\n      <td>3.3%</td>\n      <td>0.8%</td>\n      <td>9.3%</td>\n      <td>...</td>\n      <td>41.8%</td>\n      <td>31.1%</td>\n      <td>16.4%</td>\n      <td>22.0%</td>\n      <td>11.7%</td>\n      <td>5.1%</td>\n      <td>2.6%</td>\n      <td>7.9%</td>\n      <td>8.1%</td>\n      <td>19.1%</td>\n    </tr>\n    <tr>\n      <th>70</th>\n      <td>American Indian and Alaska Native</td>\n      <td>2.0%</td>\n      <td>0.4%</td>\n      <td>0.4%</td>\n      <td>0.5%</td>\n      <td>2.0%</td>\n      <td>0.5%</td>\n      <td>0.8%</td>\n      <td>1.4%</td>\n      <td>1.0%</td>\n      <td>...</td>\n      <td>1.3%</td>\n      <td>0.9%</td>\n      <td>4.5%</td>\n      <td>1.4%</td>\n      <td>1.6%</td>\n      <td>0.9%</td>\n      <td>1.0%</td>\n      <td>2.3%</td>\n      <td>0.9%</td>\n      <td>2.7%</td>\n    </tr>\n    <tr>\n      <th>71</th>\n      <td>Asian</td>\n      <td>1.3%</td>\n      <td>0.9%</td>\n      <td>6.9%</td>\n      <td>0.9%</td>\n      <td>1.4%</td>\n      <td>3.8%</td>\n      <td>5.5%</td>\n      <td>0.6%</td>\n      <td>1.9%</td>\n      <td>...</td>\n      <td>1.0%</td>\n      <td>10.8%</td>\n      <td>2.3%</td>\n      <td>5.2%</td>\n      <td>4.0%</td>\n      <td>3.0%</td>\n      <td>2.1%</td>\n      <td>5.1%</td>\n      <td>8.3%</td>\n      <td>6.7%</td>\n    </tr>\n    <tr>\n      <th>72</th>\n      <td>Native Hawaiian and Other Pacific Isla...</td>\n      <td>0.5%</td>\n      <td>0.4%</td>\n      <td>0.0%</td>\n      <td>0.0%</td>\n      <td>0.2%</td>\n      <td>0.0%</td>\n      <td>0.1%</td>\n      <td>0.1%</td>\n      <td>0.0%</td>\n      <td>...</td>\n      <td>0.2%</td>\n      <td>0.3%</td>\n      <td>0.1%</td>\n      <td>0.3%</td>\n      <td>0.0%</td>\n      <td>0.3%</td>\n      <td>0.0%</td>\n      <td>0.0%</td>\n      <td>0.0%</td>\n      <td>0.1%</td>\n    </tr>\n    <tr>\n      <th>73</th>\n      <td>Some Other Race</td>\n      <td>3.3%</td>\n      <td>6.9%</td>\n      <td>3.2%</td>\n      <td>1.3%</td>\n      <td>2.6%</td>\n      <td>3.4%</td>\n      <td>6.0%</td>\n      <td>5.2%</td>\n      <td>4.6%</td>\n      <td>...</td>\n      <td>20.3%</td>\n      <td>7.1%</td>\n      <td>20.6%</td>\n      <td>3.2%</td>\n      <td>11.4%</td>\n      <td>3.1%</td>\n      <td>5.1%</td>\n      <td>6.8%</td>\n      <td>1.4%</td>\n      <td>14.9%</td>\n    </tr>\n    <tr>\n      <th>76</th>\n      <td>Hispanic or Latino (of any race)</td>\n      <td>3.5%</td>\n      <td>4.9%</td>\n      <td>5.4%</td>\n      <td>1.7%</td>\n      <td>6.3%</td>\n      <td>3.7%</td>\n      <td>6.9%</td>\n      <td>5.4%</td>\n      <td>11.1%</td>\n      <td>...</td>\n      <td>33.8%</td>\n      <td>10.8%</td>\n      <td>32.1%</td>\n      <td>7.3%</td>\n      <td>17.4%</td>\n      <td>3.8%</td>\n      <td>4.2%</td>\n      <td>9.5%</td>\n      <td>3.1%</td>\n      <td>21.5%</td>\n    </tr>\n  </tbody>\n</table>\n<p>7 rows × 32 columns</p>\n</div>"
     },
     "execution_count": 103,
     "metadata": {},
     "output_type": "execute_result"
    }
   ],
   "source": [
    "# df = pd.read_csv('DP05.csv')\n",
    "df = pd.read_csv('D05.csv')\n",
    "# df['Label (Grouping)'].iloc[68] #70-78\n",
    "\n",
    "# Exclude duplicate names\n",
    "df = df[(df.index >= 68) & (df.index <= 76)]\n",
    "\n",
    "dict = {\n",
    "    '\\xa0\\xa0\\xa0\\xa0\\xa0\\xa0\\xa0\\xa0White':'White',\n",
    "    '\\xa0\\xa0\\xa0\\xa0\\xa0\\xa0\\xa0\\xa0Black or African American':'Black or African American',\n",
    "    '\\xa0\\xa0\\xa0\\xa0\\xa0\\xa0\\xa0\\xa0American Indian and Alaska Native':'American Indian and Alaska Native',\n",
    "    '\\xa0\\xa0\\xa0\\xa0\\xa0\\xa0\\xa0\\xa0Asian':'Asian',\n",
    "    '\\xa0\\xa0\\xa0\\xa0\\xa0\\xa0\\xa0\\xa0Native Hawaiian and Other Pacific Islander':'Native Hawaiian and Other Pacific Islander',\n",
    "    '\\xa0\\xa0\\xa0\\xa0\\xa0\\xa0\\xa0\\xa0Some Other Race':'Some Other Race',\n",
    "    '\\xa0\\xa0\\xa0\\xa0\\xa0\\xa0\\xa0\\xa0Hispanic or Latino (of any race)':'Hispanic or Latino'\n",
    "}\n",
    "\n",
    "for key, value in dict.items():\n",
    "    df = df[df['Label (Grouping)'].isin(dict.keys())]\n",
    "\n",
    "df = df.rename(columns={'Label (Grouping)':'Variable'})\n",
    "filtered_columns = ['Variable'] + [col for col in df.columns if col.endswith('!!Percent')]\n",
    "shortname_columns = [col.replace('!!Percent','').replace('ZCTA5','Zip') for col in filtered_columns]\n",
    "rename_dict = {}\n",
    "for i in range(len(filtered_columns)):\n",
    "    rename_dict[filtered_columns[i]] = shortname_columns[i]\n",
    "\n",
    "df = df[filtered_columns]\n",
    "df5 = df.rename(columns = rename_dict)\n",
    "\n",
    "df5"
   ],
   "metadata": {
    "collapsed": false
   }
  },
  {
   "cell_type": "code",
   "execution_count": 104,
   "outputs": [
    {
     "data": {
      "text/plain": "                                             Variable Zip 48809 Zip 48838  \\\n0                                Households with kids     32.0%     28.8%   \n1                          Spanish speaking household      2.3%      2.7%   \n2                                    Adult population     8,871    14,154   \n3                                   Less than $10,000      4.6%      4.0%   \n4                                  $10,000 to $14,999      4.4%      3.9%   \n5                                  $15,000 to $24,999      7.7%      7.3%   \n6                                  $25,000 to $34,999      5.9%     10.2%   \n7                                  $35,000 to $49,999     12.2%     14.9%   \n8                                  $50,000 to $74,999     22.0%     21.9%   \n9                                  $75,000 to $99,999     16.3%     13.0%   \n10                               $100,000 to $149,999     17.8%     15.3%   \n11                               $150,000 to $199,999      6.6%      6.0%   \n12                                   $200,000 or more      2.6%      3.5%   \n13          With Food Stamp/SNAP benefits in the p...     23.3%     10.4%   \n14                       No health insurance coverage      0.5%      1.5%   \n15                                              White     96.9%     96.3%   \n16                          Black or African American      2.2%      3.2%   \n17                  American Indian and Alaska Native      2.0%      0.4%   \n18                                              Asian      1.3%      0.9%   \n19          Native Hawaiian and Other Pacific Isla...      0.5%      0.4%   \n20                                    Some Other Race      3.3%      6.9%   \n21                   Hispanic or Latino (of any race)      3.5%      4.9%   \n\n   Zip 49301 Zip 49302 Zip 49306 Zip 49315 Zip 49316 Zip 49319 Zip 49321  ...  \\\n0      42.6%     46.7%     31.1%     40.1%     39.6%     29.4%     27.1%  ...   \n1       3.8%      0.6%      3.4%      2.0%      1.9%      1.6%      3.3%  ...   \n2     14,514     6,586     8,324    18,440    18,693    14,638    12,301  ...   \n3       1.9%      1.5%      3.2%      1.2%      2.6%      2.0%      2.2%  ...   \n4       0.8%      1.1%      1.5%      1.7%      1.7%      6.1%      2.1%  ...   \n5       2.2%      1.1%      3.2%      3.1%      3.9%      7.1%     11.9%  ...   \n6       2.7%      4.6%      4.9%      4.7%      3.0%      6.7%      4.7%  ...   \n7       2.1%     11.7%      8.3%      8.6%      8.7%     10.7%     15.8%  ...   \n8       7.2%     12.7%     13.0%     15.4%     13.8%     18.8%     19.9%  ...   \n9       9.1%     11.4%     13.6%     13.6%     17.1%     13.6%     15.0%  ...   \n10     18.0%     23.1%     22.6%     21.9%     21.3%     22.5%     16.4%  ...   \n11     16.0%     22.1%     10.6%     16.2%     16.6%      8.0%      6.8%  ...   \n12     40.0%     10.7%     19.1%     13.6%     11.2%      4.5%      5.2%  ...   \n13      0.7%      1.9%      4.6%      0.5%      3.2%     11.8%     10.1%  ...   \n14      0.8%      6.8%      3.9%      2.8%      1.0%      1.1%      1.7%  ...   \n15     93.7%     98.5%     96.4%     94.5%     92.2%     98.0%     87.8%  ...   \n16      1.3%      0.6%      3.2%      1.4%      3.3%      0.8%      9.3%  ...   \n17      0.4%      0.5%      2.0%      0.5%      0.8%      1.4%      1.0%  ...   \n18      6.9%      0.9%      1.4%      3.8%      5.5%      0.6%      1.9%  ...   \n19      0.0%      0.0%      0.2%      0.0%      0.1%      0.1%      0.0%  ...   \n20      3.2%      1.3%      2.6%      3.4%      6.0%      5.2%      4.6%  ...   \n21      5.4%      1.7%      6.3%      3.7%      6.9%      5.4%     11.1%  ...   \n\n   Zip 49507 Zip 49508 Zip 49509 Zip 49512 Zip 49519 Zip 49525 Zip 49534  \\\n0      39.3%     35.1%     36.5%     23.4%     30.1%     31.3%     24.6%   \n1      23.3%      7.0%     24.6%      3.6%     12.2%      1.6%      1.6%   \n2     27,985    31,075    21,231    15,395    22,100    23,713    18,352   \n3       8.1%      3.2%      4.4%      3.7%      4.1%      2.1%      2.0%   \n4       6.0%      4.8%      3.7%      2.7%      3.5%      2.0%      1.9%   \n5       9.5%      5.8%     10.7%      6.6%      6.9%      4.6%      3.5%   \n6       9.5%      9.4%      6.9%      8.0%      7.4%      8.0%      5.7%   \n7      15.1%     15.8%     13.4%     17.5%     12.5%      9.8%     12.9%   \n8      16.4%     18.5%     23.4%     18.5%     22.3%     16.7%     21.0%   \n9      13.4%     14.7%     14.4%     10.1%     16.1%     12.5%     17.5%   \n10     13.4%     16.0%     17.2%     19.2%     16.7%     21.1%     22.3%   \n11      5.1%      6.6%      3.3%      5.6%      6.6%     11.0%      7.2%   \n12      3.5%      5.2%      2.6%      8.0%      4.0%     12.3%      5.9%   \n13     21.6%     14.8%     16.2%      5.7%     12.6%      4.9%      2.7%   \n14      5.6%      2.9%      1.8%      3.0%      2.9%      2.4%      0.0%   \n15     53.5%     60.1%     73.2%     72.8%     81.1%     93.5%     93.5%   \n16     41.8%     31.1%     16.4%     22.0%     11.7%      5.1%      2.6%   \n17      1.3%      0.9%      4.5%      1.4%      1.6%      0.9%      1.0%   \n18      1.0%     10.8%      2.3%      5.2%      4.0%      3.0%      2.1%   \n19      0.2%      0.3%      0.1%      0.3%      0.0%      0.3%      0.0%   \n20     20.3%      7.1%     20.6%      3.2%     11.4%      3.1%      5.1%   \n21     33.8%     10.8%     32.1%      7.3%     17.4%      3.8%      4.2%   \n\n   Zip 49544 Zip 49546 Zip 49548  \n0      24.3%     31.5%     38.1%  \n1       3.6%      2.0%     12.9%  \n2      7,950    26,370    25,457  \n3       2.4%      4.3%      4.3%  \n4       2.9%      2.2%      2.1%  \n5      13.2%      5.6%      7.7%  \n6       5.2%      5.5%      9.6%  \n7      15.0%      9.7%     17.7%  \n8      18.2%     13.6%     22.3%  \n9      12.1%     13.6%     16.5%  \n10     17.8%     19.7%     14.3%  \n11      5.5%      9.2%      3.7%  \n12      7.7%     16.4%      1.7%  \n13     13.0%      4.2%     15.9%  \n14      0.0%      3.1%      2.4%  \n15     87.0%     84.7%     71.0%  \n16      7.9%      8.1%     19.1%  \n17      2.3%      0.9%      2.7%  \n18      5.1%      8.3%      6.7%  \n19      0.0%      0.0%      0.1%  \n20      6.8%      1.4%     14.9%  \n21      9.5%      3.1%     21.5%  \n\n[22 rows x 32 columns]",
      "text/html": "<div>\n<style scoped>\n    .dataframe tbody tr th:only-of-type {\n        vertical-align: middle;\n    }\n\n    .dataframe tbody tr th {\n        vertical-align: top;\n    }\n\n    .dataframe thead th {\n        text-align: right;\n    }\n</style>\n<table border=\"1\" class=\"dataframe\">\n  <thead>\n    <tr style=\"text-align: right;\">\n      <th></th>\n      <th>Variable</th>\n      <th>Zip 48809</th>\n      <th>Zip 48838</th>\n      <th>Zip 49301</th>\n      <th>Zip 49302</th>\n      <th>Zip 49306</th>\n      <th>Zip 49315</th>\n      <th>Zip 49316</th>\n      <th>Zip 49319</th>\n      <th>Zip 49321</th>\n      <th>...</th>\n      <th>Zip 49507</th>\n      <th>Zip 49508</th>\n      <th>Zip 49509</th>\n      <th>Zip 49512</th>\n      <th>Zip 49519</th>\n      <th>Zip 49525</th>\n      <th>Zip 49534</th>\n      <th>Zip 49544</th>\n      <th>Zip 49546</th>\n      <th>Zip 49548</th>\n    </tr>\n  </thead>\n  <tbody>\n    <tr>\n      <th>0</th>\n      <td>Households with kids</td>\n      <td>32.0%</td>\n      <td>28.8%</td>\n      <td>42.6%</td>\n      <td>46.7%</td>\n      <td>31.1%</td>\n      <td>40.1%</td>\n      <td>39.6%</td>\n      <td>29.4%</td>\n      <td>27.1%</td>\n      <td>...</td>\n      <td>39.3%</td>\n      <td>35.1%</td>\n      <td>36.5%</td>\n      <td>23.4%</td>\n      <td>30.1%</td>\n      <td>31.3%</td>\n      <td>24.6%</td>\n      <td>24.3%</td>\n      <td>31.5%</td>\n      <td>38.1%</td>\n    </tr>\n    <tr>\n      <th>1</th>\n      <td>Spanish speaking household</td>\n      <td>2.3%</td>\n      <td>2.7%</td>\n      <td>3.8%</td>\n      <td>0.6%</td>\n      <td>3.4%</td>\n      <td>2.0%</td>\n      <td>1.9%</td>\n      <td>1.6%</td>\n      <td>3.3%</td>\n      <td>...</td>\n      <td>23.3%</td>\n      <td>7.0%</td>\n      <td>24.6%</td>\n      <td>3.6%</td>\n      <td>12.2%</td>\n      <td>1.6%</td>\n      <td>1.6%</td>\n      <td>3.6%</td>\n      <td>2.0%</td>\n      <td>12.9%</td>\n    </tr>\n    <tr>\n      <th>2</th>\n      <td>Adult population</td>\n      <td>8,871</td>\n      <td>14,154</td>\n      <td>14,514</td>\n      <td>6,586</td>\n      <td>8,324</td>\n      <td>18,440</td>\n      <td>18,693</td>\n      <td>14,638</td>\n      <td>12,301</td>\n      <td>...</td>\n      <td>27,985</td>\n      <td>31,075</td>\n      <td>21,231</td>\n      <td>15,395</td>\n      <td>22,100</td>\n      <td>23,713</td>\n      <td>18,352</td>\n      <td>7,950</td>\n      <td>26,370</td>\n      <td>25,457</td>\n    </tr>\n    <tr>\n      <th>3</th>\n      <td>Less than $10,000</td>\n      <td>4.6%</td>\n      <td>4.0%</td>\n      <td>1.9%</td>\n      <td>1.5%</td>\n      <td>3.2%</td>\n      <td>1.2%</td>\n      <td>2.6%</td>\n      <td>2.0%</td>\n      <td>2.2%</td>\n      <td>...</td>\n      <td>8.1%</td>\n      <td>3.2%</td>\n      <td>4.4%</td>\n      <td>3.7%</td>\n      <td>4.1%</td>\n      <td>2.1%</td>\n      <td>2.0%</td>\n      <td>2.4%</td>\n      <td>4.3%</td>\n      <td>4.3%</td>\n    </tr>\n    <tr>\n      <th>4</th>\n      <td>$10,000 to $14,999</td>\n      <td>4.4%</td>\n      <td>3.9%</td>\n      <td>0.8%</td>\n      <td>1.1%</td>\n      <td>1.5%</td>\n      <td>1.7%</td>\n      <td>1.7%</td>\n      <td>6.1%</td>\n      <td>2.1%</td>\n      <td>...</td>\n      <td>6.0%</td>\n      <td>4.8%</td>\n      <td>3.7%</td>\n      <td>2.7%</td>\n      <td>3.5%</td>\n      <td>2.0%</td>\n      <td>1.9%</td>\n      <td>2.9%</td>\n      <td>2.2%</td>\n      <td>2.1%</td>\n    </tr>\n    <tr>\n      <th>5</th>\n      <td>$15,000 to $24,999</td>\n      <td>7.7%</td>\n      <td>7.3%</td>\n      <td>2.2%</td>\n      <td>1.1%</td>\n      <td>3.2%</td>\n      <td>3.1%</td>\n      <td>3.9%</td>\n      <td>7.1%</td>\n      <td>11.9%</td>\n      <td>...</td>\n      <td>9.5%</td>\n      <td>5.8%</td>\n      <td>10.7%</td>\n      <td>6.6%</td>\n      <td>6.9%</td>\n      <td>4.6%</td>\n      <td>3.5%</td>\n      <td>13.2%</td>\n      <td>5.6%</td>\n      <td>7.7%</td>\n    </tr>\n    <tr>\n      <th>6</th>\n      <td>$25,000 to $34,999</td>\n      <td>5.9%</td>\n      <td>10.2%</td>\n      <td>2.7%</td>\n      <td>4.6%</td>\n      <td>4.9%</td>\n      <td>4.7%</td>\n      <td>3.0%</td>\n      <td>6.7%</td>\n      <td>4.7%</td>\n      <td>...</td>\n      <td>9.5%</td>\n      <td>9.4%</td>\n      <td>6.9%</td>\n      <td>8.0%</td>\n      <td>7.4%</td>\n      <td>8.0%</td>\n      <td>5.7%</td>\n      <td>5.2%</td>\n      <td>5.5%</td>\n      <td>9.6%</td>\n    </tr>\n    <tr>\n      <th>7</th>\n      <td>$35,000 to $49,999</td>\n      <td>12.2%</td>\n      <td>14.9%</td>\n      <td>2.1%</td>\n      <td>11.7%</td>\n      <td>8.3%</td>\n      <td>8.6%</td>\n      <td>8.7%</td>\n      <td>10.7%</td>\n      <td>15.8%</td>\n      <td>...</td>\n      <td>15.1%</td>\n      <td>15.8%</td>\n      <td>13.4%</td>\n      <td>17.5%</td>\n      <td>12.5%</td>\n      <td>9.8%</td>\n      <td>12.9%</td>\n      <td>15.0%</td>\n      <td>9.7%</td>\n      <td>17.7%</td>\n    </tr>\n    <tr>\n      <th>8</th>\n      <td>$50,000 to $74,999</td>\n      <td>22.0%</td>\n      <td>21.9%</td>\n      <td>7.2%</td>\n      <td>12.7%</td>\n      <td>13.0%</td>\n      <td>15.4%</td>\n      <td>13.8%</td>\n      <td>18.8%</td>\n      <td>19.9%</td>\n      <td>...</td>\n      <td>16.4%</td>\n      <td>18.5%</td>\n      <td>23.4%</td>\n      <td>18.5%</td>\n      <td>22.3%</td>\n      <td>16.7%</td>\n      <td>21.0%</td>\n      <td>18.2%</td>\n      <td>13.6%</td>\n      <td>22.3%</td>\n    </tr>\n    <tr>\n      <th>9</th>\n      <td>$75,000 to $99,999</td>\n      <td>16.3%</td>\n      <td>13.0%</td>\n      <td>9.1%</td>\n      <td>11.4%</td>\n      <td>13.6%</td>\n      <td>13.6%</td>\n      <td>17.1%</td>\n      <td>13.6%</td>\n      <td>15.0%</td>\n      <td>...</td>\n      <td>13.4%</td>\n      <td>14.7%</td>\n      <td>14.4%</td>\n      <td>10.1%</td>\n      <td>16.1%</td>\n      <td>12.5%</td>\n      <td>17.5%</td>\n      <td>12.1%</td>\n      <td>13.6%</td>\n      <td>16.5%</td>\n    </tr>\n    <tr>\n      <th>10</th>\n      <td>$100,000 to $149,999</td>\n      <td>17.8%</td>\n      <td>15.3%</td>\n      <td>18.0%</td>\n      <td>23.1%</td>\n      <td>22.6%</td>\n      <td>21.9%</td>\n      <td>21.3%</td>\n      <td>22.5%</td>\n      <td>16.4%</td>\n      <td>...</td>\n      <td>13.4%</td>\n      <td>16.0%</td>\n      <td>17.2%</td>\n      <td>19.2%</td>\n      <td>16.7%</td>\n      <td>21.1%</td>\n      <td>22.3%</td>\n      <td>17.8%</td>\n      <td>19.7%</td>\n      <td>14.3%</td>\n    </tr>\n    <tr>\n      <th>11</th>\n      <td>$150,000 to $199,999</td>\n      <td>6.6%</td>\n      <td>6.0%</td>\n      <td>16.0%</td>\n      <td>22.1%</td>\n      <td>10.6%</td>\n      <td>16.2%</td>\n      <td>16.6%</td>\n      <td>8.0%</td>\n      <td>6.8%</td>\n      <td>...</td>\n      <td>5.1%</td>\n      <td>6.6%</td>\n      <td>3.3%</td>\n      <td>5.6%</td>\n      <td>6.6%</td>\n      <td>11.0%</td>\n      <td>7.2%</td>\n      <td>5.5%</td>\n      <td>9.2%</td>\n      <td>3.7%</td>\n    </tr>\n    <tr>\n      <th>12</th>\n      <td>$200,000 or more</td>\n      <td>2.6%</td>\n      <td>3.5%</td>\n      <td>40.0%</td>\n      <td>10.7%</td>\n      <td>19.1%</td>\n      <td>13.6%</td>\n      <td>11.2%</td>\n      <td>4.5%</td>\n      <td>5.2%</td>\n      <td>...</td>\n      <td>3.5%</td>\n      <td>5.2%</td>\n      <td>2.6%</td>\n      <td>8.0%</td>\n      <td>4.0%</td>\n      <td>12.3%</td>\n      <td>5.9%</td>\n      <td>7.7%</td>\n      <td>16.4%</td>\n      <td>1.7%</td>\n    </tr>\n    <tr>\n      <th>13</th>\n      <td>With Food Stamp/SNAP benefits in the p...</td>\n      <td>23.3%</td>\n      <td>10.4%</td>\n      <td>0.7%</td>\n      <td>1.9%</td>\n      <td>4.6%</td>\n      <td>0.5%</td>\n      <td>3.2%</td>\n      <td>11.8%</td>\n      <td>10.1%</td>\n      <td>...</td>\n      <td>21.6%</td>\n      <td>14.8%</td>\n      <td>16.2%</td>\n      <td>5.7%</td>\n      <td>12.6%</td>\n      <td>4.9%</td>\n      <td>2.7%</td>\n      <td>13.0%</td>\n      <td>4.2%</td>\n      <td>15.9%</td>\n    </tr>\n    <tr>\n      <th>14</th>\n      <td>No health insurance coverage</td>\n      <td>0.5%</td>\n      <td>1.5%</td>\n      <td>0.8%</td>\n      <td>6.8%</td>\n      <td>3.9%</td>\n      <td>2.8%</td>\n      <td>1.0%</td>\n      <td>1.1%</td>\n      <td>1.7%</td>\n      <td>...</td>\n      <td>5.6%</td>\n      <td>2.9%</td>\n      <td>1.8%</td>\n      <td>3.0%</td>\n      <td>2.9%</td>\n      <td>2.4%</td>\n      <td>0.0%</td>\n      <td>0.0%</td>\n      <td>3.1%</td>\n      <td>2.4%</td>\n    </tr>\n    <tr>\n      <th>15</th>\n      <td>White</td>\n      <td>96.9%</td>\n      <td>96.3%</td>\n      <td>93.7%</td>\n      <td>98.5%</td>\n      <td>96.4%</td>\n      <td>94.5%</td>\n      <td>92.2%</td>\n      <td>98.0%</td>\n      <td>87.8%</td>\n      <td>...</td>\n      <td>53.5%</td>\n      <td>60.1%</td>\n      <td>73.2%</td>\n      <td>72.8%</td>\n      <td>81.1%</td>\n      <td>93.5%</td>\n      <td>93.5%</td>\n      <td>87.0%</td>\n      <td>84.7%</td>\n      <td>71.0%</td>\n    </tr>\n    <tr>\n      <th>16</th>\n      <td>Black or African American</td>\n      <td>2.2%</td>\n      <td>3.2%</td>\n      <td>1.3%</td>\n      <td>0.6%</td>\n      <td>3.2%</td>\n      <td>1.4%</td>\n      <td>3.3%</td>\n      <td>0.8%</td>\n      <td>9.3%</td>\n      <td>...</td>\n      <td>41.8%</td>\n      <td>31.1%</td>\n      <td>16.4%</td>\n      <td>22.0%</td>\n      <td>11.7%</td>\n      <td>5.1%</td>\n      <td>2.6%</td>\n      <td>7.9%</td>\n      <td>8.1%</td>\n      <td>19.1%</td>\n    </tr>\n    <tr>\n      <th>17</th>\n      <td>American Indian and Alaska Native</td>\n      <td>2.0%</td>\n      <td>0.4%</td>\n      <td>0.4%</td>\n      <td>0.5%</td>\n      <td>2.0%</td>\n      <td>0.5%</td>\n      <td>0.8%</td>\n      <td>1.4%</td>\n      <td>1.0%</td>\n      <td>...</td>\n      <td>1.3%</td>\n      <td>0.9%</td>\n      <td>4.5%</td>\n      <td>1.4%</td>\n      <td>1.6%</td>\n      <td>0.9%</td>\n      <td>1.0%</td>\n      <td>2.3%</td>\n      <td>0.9%</td>\n      <td>2.7%</td>\n    </tr>\n    <tr>\n      <th>18</th>\n      <td>Asian</td>\n      <td>1.3%</td>\n      <td>0.9%</td>\n      <td>6.9%</td>\n      <td>0.9%</td>\n      <td>1.4%</td>\n      <td>3.8%</td>\n      <td>5.5%</td>\n      <td>0.6%</td>\n      <td>1.9%</td>\n      <td>...</td>\n      <td>1.0%</td>\n      <td>10.8%</td>\n      <td>2.3%</td>\n      <td>5.2%</td>\n      <td>4.0%</td>\n      <td>3.0%</td>\n      <td>2.1%</td>\n      <td>5.1%</td>\n      <td>8.3%</td>\n      <td>6.7%</td>\n    </tr>\n    <tr>\n      <th>19</th>\n      <td>Native Hawaiian and Other Pacific Isla...</td>\n      <td>0.5%</td>\n      <td>0.4%</td>\n      <td>0.0%</td>\n      <td>0.0%</td>\n      <td>0.2%</td>\n      <td>0.0%</td>\n      <td>0.1%</td>\n      <td>0.1%</td>\n      <td>0.0%</td>\n      <td>...</td>\n      <td>0.2%</td>\n      <td>0.3%</td>\n      <td>0.1%</td>\n      <td>0.3%</td>\n      <td>0.0%</td>\n      <td>0.3%</td>\n      <td>0.0%</td>\n      <td>0.0%</td>\n      <td>0.0%</td>\n      <td>0.1%</td>\n    </tr>\n    <tr>\n      <th>20</th>\n      <td>Some Other Race</td>\n      <td>3.3%</td>\n      <td>6.9%</td>\n      <td>3.2%</td>\n      <td>1.3%</td>\n      <td>2.6%</td>\n      <td>3.4%</td>\n      <td>6.0%</td>\n      <td>5.2%</td>\n      <td>4.6%</td>\n      <td>...</td>\n      <td>20.3%</td>\n      <td>7.1%</td>\n      <td>20.6%</td>\n      <td>3.2%</td>\n      <td>11.4%</td>\n      <td>3.1%</td>\n      <td>5.1%</td>\n      <td>6.8%</td>\n      <td>1.4%</td>\n      <td>14.9%</td>\n    </tr>\n    <tr>\n      <th>21</th>\n      <td>Hispanic or Latino (of any race)</td>\n      <td>3.5%</td>\n      <td>4.9%</td>\n      <td>5.4%</td>\n      <td>1.7%</td>\n      <td>6.3%</td>\n      <td>3.7%</td>\n      <td>6.9%</td>\n      <td>5.4%</td>\n      <td>11.1%</td>\n      <td>...</td>\n      <td>33.8%</td>\n      <td>10.8%</td>\n      <td>32.1%</td>\n      <td>7.3%</td>\n      <td>17.4%</td>\n      <td>3.8%</td>\n      <td>4.2%</td>\n      <td>9.5%</td>\n      <td>3.1%</td>\n      <td>21.5%</td>\n    </tr>\n  </tbody>\n</table>\n<p>22 rows × 32 columns</p>\n</div>"
     },
     "execution_count": 104,
     "metadata": {},
     "output_type": "execute_result"
    }
   ],
   "source": [
    "df_combo = pd.concat([df2,df3])\n",
    "df_combo = pd.concat([df_combo,df5])\n",
    "df_combo = df_combo.reset_index(drop=True)\n",
    "df_combo.to_csv('final_result.csv')\n",
    "df_combo"
   ],
   "metadata": {
    "collapsed": false
   }
  },
  {
   "cell_type": "code",
   "execution_count": 105,
   "metadata": {},
   "outputs": [
    {
     "name": "stdout",
     "output_type": "stream",
     "text": [
      "[49508, 49504, 49341, 49507, 49503, 49548, 49506, 49505, 49546, 49525, 49418, 49519, 49509, 49315, 49316, 49534, 49301, 49512, 48838, 49319, 49331, 49321, 49345, 48809, 49544, 49306, 49302, 49330, 49343, 49326, 49325, 49351, 49550, 49560, 49317, 49355, 49357, 49356, 49502, 49510, 49515, 49514, 49518, 49516, 49523, 49528, 49530, 49555, 49599, 49588, 49501, 49468]\n"
     ]
    }
   ],
   "source": [
    "zip_codes = [\n",
    "    49508, 49504, 49341, 49507, 49503, 49548, 49506, 49505, 49546, 49525,\n",
    "    49418, 49519, 49509, 49315, 49316, 49534, 49301, 49512, 48838, 49319,\n",
    "    49331, 49321, 49345, 48809, 49544, 49306, 49302, 49330, 49343, 49326,\n",
    "    49325, 49351, 49550, 49560, 49317, 49355, 49357, 49356, 49502, 49510,\n",
    "    49515, 49514, 49518, 49516, 49523, 49528, 49530, 49555, 49599, 49588,\n",
    "    49501, 49468\n",
    "]\n",
    "print(zip_codes)"
   ]
  },
  {
   "cell_type": "code",
   "execution_count": 106,
   "metadata": {},
   "outputs": [
    {
     "name": "stdout",
     "output_type": "stream",
     "text": [
      "[48809, 48838, 49301, 49302, 49306, 49315, 49316, 49317, 49319, 49321, 49325, 49326, 49330, 49331, 49341, 49343, 49345, 49351, 49355, 49356, 49357, 49418, 49468, 49501, 49502, 49503, 49504, 49505, 49506, 49507, 49508, 49509, 49510, 49512, 49514, 49515, 49516, 49518, 49519, 49523, 49525, 49528, 49530, 49534, 49544, 49546, 49548, 49550, 49555, 49560, 49588, 49599]\n"
     ]
    }
   ],
   "source": [
    "print(list(pd.DataFrame(zip_codes, columns=['zip']).sort_values(by='zip')['zip']))"
   ]
  },
  {
   "cell_type": "code",
   "execution_count": 107,
   "metadata": {},
   "outputs": [
    {
     "data": {
      "text/plain": "'Households with one or more people under 18 years'"
     },
     "execution_count": 107,
     "metadata": {},
     "output_type": "execute_result"
    }
   ],
   "source": [
    "# DP02\n",
    "'ZCTA5 48809!!Percent'\n",
    "'Households with one or more people under 18 years'\n"
   ]
  }
 ],
 "metadata": {
  "kernelspec": {
   "display_name": "Python 3 (ipykernel)",
   "language": "python",
   "name": "python3"
  },
  "language_info": {
   "codemirror_mode": {
    "name": "ipython",
    "version": 3
   },
   "file_extension": ".py",
   "mimetype": "text/x-python",
   "name": "python",
   "nbconvert_exporter": "python",
   "pygments_lexer": "ipython3",
   "version": "3.9.10"
  }
 },
 "nbformat": 4,
 "nbformat_minor": 4
}
